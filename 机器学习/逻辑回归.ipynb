{
 "cells": [
  {
   "cell_type": "code",
   "execution_count": 2,
   "metadata": {},
   "outputs": [],
   "source": [
    "import numpy as np\n",
    "from sklearn.datasets import load_iris\n",
    "from sklearn.model_selection import train_test_split"
   ]
  },
  {
   "cell_type": "code",
   "execution_count": 1,
   "metadata": {},
   "outputs": [],
   "source": [
    "def sigmoid(z):\n",
    "    return 1 / (1 + np.exp(-z))"
   ]
  },
  {
   "cell_type": "code",
   "execution_count": 36,
   "metadata": {},
   "outputs": [],
   "source": [
    "class LogisticRegreesion:\n",
    "    def __init__(self, lr=0.001, epochs=100) -> None:\n",
    "        self.lr = lr\n",
    "        self.epochs = epochs\n",
    "\n",
    "    def fit(self, X, y):\n",
    "        # 初始化参数\n",
    "        self.w = np.random.randn(X.shape[1])\n",
    "        self.b = 0\n",
    "        n = len(X)\n",
    "\n",
    "        # 梯度下降\n",
    "        for epoch in range(self.epochs):\n",
    "            # 得到模型预测值\n",
    "            y_hat = sigmoid(np.dot(X, self.w) + self.b)\n",
    "\n",
    "            # 计算损失函数\n",
    "            loss = max(0, (-1 / n) * np.sum(y * np.log(y_hat) + (1 - y) * np.log(1 - y_hat)))\n",
    "\n",
    "            # 计算梯度\n",
    "            dw = (1 / n) * np.dot(X.T, (y_hat - y))\n",
    "            db = (1 / n) * np.sum(y_hat - y)\n",
    "\n",
    "            # 更新参数\n",
    "            self.w -= self.lr * dw\n",
    "            self.b -= self.lr * db\n",
    "\n",
    "    def predict(self, X):\n",
    "        y_hat = sigmoid(np.dot(X, self.w) + self.b)\n",
    "        y_hat[y_hat >= 0.5] = 1\n",
    "        y_hat[y_hat < 0.5] = 0\n",
    "        return y_hat\n",
    "\n",
    "    def score(self, y_pred, y):\n",
    "        return (y_pred == y).sum() / len(y)"
   ]
  },
  {
   "cell_type": "code",
   "execution_count": 40,
   "metadata": {},
   "outputs": [
    {
     "data": {
      "text/plain": [
       "((150, 4),\n",
       " array([0, 0, 0, 0, 0, 0, 0, 0, 0, 0, 0, 0, 0, 0, 0, 0, 0, 0, 0, 0, 0, 0,\n",
       "        0, 0, 0, 0, 0, 0, 0, 0, 0, 0, 0, 0, 0, 0, 0, 0, 0, 0, 0, 0, 0, 0,\n",
       "        0, 0, 0, 0, 0, 0, 1, 1, 1, 1, 1, 1, 1, 1, 1, 1, 1, 1, 1, 1, 1, 1,\n",
       "        1, 1, 1, 1, 1, 1, 1, 1, 1, 1, 1, 1, 1, 1, 1, 1, 1, 1, 1, 1, 1, 1,\n",
       "        1, 1, 1, 1, 1, 1, 1, 1, 1, 1, 1, 1, 2, 2, 2, 2, 2, 2, 2, 2, 2, 2,\n",
       "        2, 2, 2, 2, 2, 2, 2, 2, 2, 2, 2, 2, 2, 2, 2, 2, 2, 2, 2, 2, 2, 2,\n",
       "        2, 2, 2, 2, 2, 2, 2, 2, 2, 2, 2, 2, 2, 2, 2, 2, 2, 2]))"
      ]
     },
     "execution_count": 40,
     "metadata": {},
     "output_type": "execute_result"
    }
   ],
   "source": [
    "iris = load_iris()\n",
    "X, y = iris.data, iris.target\n",
    "X.shape, y"
   ]
  },
  {
   "cell_type": "code",
   "execution_count": 33,
   "metadata": {},
   "outputs": [
    {
     "data": {
      "text/plain": [
       "((120, 4), (30, 4), (120,), (30,))"
      ]
     },
     "execution_count": 33,
     "metadata": {},
     "output_type": "execute_result"
    }
   ],
   "source": [
    "X_train, X_test, y_train, y_test = train_test_split(X, y, test_size=0.2, random_state=2024)\n",
    "X_train.shape, X_test.shape, y_train.shape, y_test.shape"
   ]
  },
  {
   "cell_type": "code",
   "execution_count": 37,
   "metadata": {},
   "outputs": [
    {
     "name": "stderr",
     "output_type": "stream",
     "text": [
      "C:\\Users\\dell\\AppData\\Local\\Temp\\ipykernel_28608\\1363537098.py:18: RuntimeWarning: divide by zero encountered in log\n",
      "  loss = max(0, (-1 / n) * np.sum(y * np.log(y_hat) + (1 - y) * np.log(1 - y_hat)))\n",
      "C:\\Users\\dell\\AppData\\Local\\Temp\\ipykernel_28608\\1363537098.py:18: RuntimeWarning: invalid value encountered in multiply\n",
      "  loss = max(0, (-1 / n) * np.sum(y * np.log(y_hat) + (1 - y) * np.log(1 - y_hat)))\n"
     ]
    }
   ],
   "source": [
    "model = LogisticRegreesion(lr=0.003, epochs=1000)\n",
    "model.fit(X_train, y_train)"
   ]
  },
  {
   "cell_type": "code",
   "execution_count": 38,
   "metadata": {},
   "outputs": [
    {
     "data": {
      "text/plain": [
       "0.26666666666666666"
      ]
     },
     "execution_count": 38,
     "metadata": {},
     "output_type": "execute_result"
    }
   ],
   "source": [
    "y_pred = model.predict(X_test)\n",
    "acc = model.score(y_pred, y_test)\n",
    "acc"
   ]
  },
  {
   "cell_type": "code",
   "execution_count": 39,
   "metadata": {},
   "outputs": [
    {
     "name": "stdout",
     "output_type": "stream",
     "text": [
      "Loss after iteration 0: 0.8596456262581385\n",
      "Loss after iteration 10: 0.4752963130305963\n",
      "Loss after iteration 20: 0.4602342626481633\n",
      "Loss after iteration 30: 0.4503961824713643\n",
      "Loss after iteration 40: 0.44095313689871707\n",
      "Loss after iteration 50: 0.43187656988423134\n",
      "Loss after iteration 60: 0.4231490461096585\n",
      "Loss after iteration 70: 0.4147539430147388\n",
      "Loss after iteration 80: 0.40667541367611404\n",
      "Loss after iteration 90: 0.398898369230623\n",
      "Loss after iteration 100: 0.39140845793959594\n",
      "Loss after iteration 110: 0.3841920415518395\n",
      "Loss after iteration 120: 0.3772361697059037\n",
      "Loss after iteration 130: 0.3705285530031926\n",
      "Loss after iteration 140: 0.36405753527956536\n",
      "Loss after iteration 150: 0.3578120655109865\n",
      "Loss after iteration 160: 0.3517816697083199\n",
      "Loss after iteration 170: 0.345956423086735\n",
      "Loss after iteration 180: 0.34032692273549564\n",
      "Loss after iteration 190: 0.3348842609631607\n",
      "Loss after iteration 200: 0.3296199994504365\n",
      "Loss after iteration 210: 0.32452614430715154\n",
      "Loss after iteration 220: 0.31959512210015706\n",
      "Loss after iteration 230: 0.3148197568945778\n",
      "Loss after iteration 240: 0.3101932483309838\n",
      "Loss after iteration 250: 0.30570915074506705\n",
      "Loss after iteration 260: 0.3013613533236824\n",
      "Loss after iteration 270: 0.2971440612811337\n",
      "Loss after iteration 280: 0.29305177803190896\n",
      "Loss after iteration 290: 0.2890792883302919\n",
      "Loss after iteration 300: 0.2852216423430755\n",
      "Loss after iteration 310: 0.2814741406186874\n",
      "Loss after iteration 320: 0.2778323199141773\n",
      "Loss after iteration 330: 0.2742919398404845\n",
      "Loss after iteration 340: 0.2708489702860684\n",
      "Loss after iteration 350: 0.2674995795791601\n",
      "Loss after iteration 360: 0.2642401233494971\n",
      "Loss after iteration 370: 0.26106713405132137\n",
      "Loss after iteration 380: 0.2579773111105641\n",
      "Loss after iteration 390: 0.2549675116604761\n",
      "Loss after iteration 400: 0.2520347418313919\n",
      "Loss after iteration 410: 0.24917614856183765\n",
      "Loss after iteration 420: 0.24638901189974444\n",
      "Loss after iteration 430: 0.24367073776409795\n",
      "Loss after iteration 440: 0.24101885113891344\n",
      "Loss after iteration 450: 0.23843098967295748\n",
      "Loss after iteration 460: 0.23590489766013772\n",
      "Loss after iteration 470: 0.23343842037692508\n",
      "Loss after iteration 480: 0.2310294987545732\n",
      "Loss after iteration 490: 0.22867616436523241\n",
      "Loss after iteration 500: 0.22637653470233499\n",
      "Loss after iteration 510: 0.22412880873683888\n",
      "Loss after iteration 520: 0.22193126273207\n",
      "Loss after iteration 530: 0.2197822463009899\n",
      "Loss after iteration 540: 0.21768017869074419\n",
      "Loss after iteration 550: 0.2156235452803147\n",
      "Loss after iteration 560: 0.21361089427800795\n",
      "Loss after iteration 570: 0.21164083360636968\n",
      "Loss after iteration 580: 0.20971202796291347\n",
      "Loss after iteration 590: 0.20782319604580995\n",
      "Loss after iteration 600: 0.20597310793438006\n",
      "Loss after iteration 610: 0.2041605826149005\n",
      "Loss after iteration 620: 0.20238448564284234\n",
      "Loss after iteration 630: 0.20064372693324115\n",
      "Loss after iteration 640: 0.19893725867143577\n",
      "Loss after iteration 650: 0.1972640733369129\n",
      "Loss after iteration 660: 0.19562320183346676\n",
      "Loss after iteration 670: 0.19401371171931986\n",
      "Loss after iteration 680: 0.19243470553125824\n",
      "Loss after iteration 690: 0.19088531919721943\n",
      "Loss after iteration 700: 0.18936472053212386\n",
      "Loss after iteration 710: 0.18787210781207336\n",
      "Loss after iteration 720: 0.18640670842235313\n",
      "Loss after iteration 730: 0.18496777757495778\n",
      "Loss after iteration 740: 0.1835545970916356\n",
      "Loss after iteration 750: 0.18216647424869625\n",
      "Loss after iteration 760: 0.18080274068006016\n",
      "Loss after iteration 770: 0.17946275133525014\n",
      "Loss after iteration 780: 0.17814588348922827\n",
      "Loss after iteration 790: 0.17685153580117324\n",
      "Loss after iteration 800: 0.17557912741947185\n",
      "Loss after iteration 810: 0.17432809713036512\n",
      "Loss after iteration 820: 0.17309790254784574\n",
      "Loss after iteration 830: 0.1718880193425486\n",
      "Loss after iteration 840: 0.17069794050751178\n",
      "Loss after iteration 850: 0.1695271756588158\n",
      "Loss after iteration 860: 0.16837525036922316\n",
      "Loss after iteration 870: 0.16724170553305542\n",
      "Loss after iteration 880: 0.16612609676064885\n",
      "Loss after iteration 890: 0.1650279938008244\n",
      "Loss after iteration 900: 0.16394697998990354\n",
      "Loss after iteration 910: 0.16288265172588215\n",
      "Loss after iteration 920: 0.16183461796646034\n",
      "Loss after iteration 930: 0.16080249974969518\n",
      "Loss after iteration 940: 0.1597859297361187\n",
      "Loss after iteration 950: 0.15878455177122697\n",
      "Loss after iteration 960: 0.1577980204673092\n",
      "Loss after iteration 970: 0.1568260008036417\n",
      "Loss after iteration 980: 0.15586816774413004\n",
      "Loss after iteration 990: 0.15492420587152894\n",
      "训练集Accuracy:  1.0\n",
      "测试集Accuracy:  0.9565217391304348\n"
     ]
    },
    {
     "data": {
      "image/png": "[encoded data removed]",
      "text/plain": [
       "<Figure size 640x480 with 1 Axes>"
      ]
     },
     "metadata": {},
     "output_type": "display_data"
    }
   ],
   "source": [
    "import numpy as np\n",
    "import matplotlib.pyplot as plt\n",
    "from sklearn.datasets import load_iris\n",
    "from sklearn.model_selection import train_test_split\n",
    "\n",
    "# 设置随机种子\n",
    "seed_value = 2023\n",
    "np.random.seed(seed_value)\n",
    "\n",
    "# Sigmoid激活函数\n",
    "def sigmoid(z):\n",
    "    return 1 / (1 + np.exp(-z))\n",
    "\n",
    "# 定义逻辑回归算法\n",
    "class LogisticRegression:\n",
    "    def __init__(self, learning_rate=0.003, iterations=100):\n",
    "        self.learning_rate = learning_rate # 学习率\n",
    "        self.iterations = iterations # 迭代次数\n",
    "\n",
    "    def fit(self, X, y):\n",
    "        # 初始化参数\n",
    "        self.weights = np.random.randn(X.shape[1])\n",
    "        self.bias = 0\n",
    "\n",
    "        # 梯度下降\n",
    "        for i in range(self.iterations):\n",
    "            # 计算sigmoid函数的预测值, y_hat = w * x + b\n",
    "            y_hat = sigmoid(np.dot(X, self.weights) + self.bias)\n",
    "\n",
    "            # 计算损失函数\n",
    "            loss = (-1 / len(X)) * np.sum(y * np.log(y_hat) + (1 - y) * np.log(1 - y_hat))\n",
    "\n",
    "            # 计算梯度\n",
    "            dw = (1 / len(X)) * np.dot(X.T, (y_hat - y))\n",
    "            db = (1 / len(X)) * np.sum(y_hat - y)\n",
    "\n",
    "            # 更新参数\n",
    "            self.weights -= self.learning_rate * dw\n",
    "            self.bias -= self.learning_rate * db\n",
    "\n",
    "            # 打印损失函数值\n",
    "            if i % 10 == 0:\n",
    "                print(f\"Loss after iteration {i}: {loss}\")\n",
    "\n",
    "    # 预测\n",
    "    def predict(self, X):\n",
    "        y_hat = sigmoid(np.dot(X, self.weights) + self.bias)\n",
    "        y_hat[y_hat >= 0.5] = 1\n",
    "        y_hat[y_hat < 0.5] = 0\n",
    "        return y_hat\n",
    "    \n",
    "    # 精度\n",
    "    def score(self, y_pred, y):\n",
    "        accuracy = (y_pred == y).sum() / len(y)\n",
    "        return accuracy\n",
    "\n",
    "# 导入数据\n",
    "iris = load_iris()\n",
    "X = iris.data[:, :2]\n",
    "y = (iris.target != 0) * 1\n",
    "\n",
    "# 划分训练集、测试集\n",
    "X_train, X_test, y_train, y_test = train_test_split(X, y, test_size=0.15, random_state=seed_value)\n",
    "\n",
    "# 训练模型\n",
    "model = LogisticRegression(learning_rate=0.03, iterations=1000)\n",
    "model.fit(X_train, y_train)\n",
    "\n",
    "# 结果\n",
    "y_train_pred = model.predict(X_train)\n",
    "y_test_pred = model.predict(X_test)\n",
    "\n",
    "score_train = model.score(y_train_pred, y_train)\n",
    "score_test = model.score(y_test_pred, y_test)\n",
    "\n",
    "print('训练集Accuracy: ', score_train)\n",
    "print('测试集Accuracy: ', score_test)\n",
    "\n",
    "# 可视化决策边界\n",
    "x1_min, x1_max = X[:, 0].min() - 0.5, X[:, 0].max() + 0.5\n",
    "x2_min, x2_max = X[:, 1].min() - 0.5, X[:, 1].max() + 0.5\n",
    "xx1, xx2 = np.meshgrid(np.linspace(x1_min, x1_max, 100), np.linspace(x2_min, x2_max, 100))\n",
    "Z = model.predict(np.c_[xx1.ravel(), xx2.ravel()])\n",
    "Z = Z.reshape(xx1.shape)\n",
    "plt.contourf(xx1, xx2, Z, cmap=plt.cm.Spectral)\n",
    "plt.scatter(X[:, 0], X[:, 1], c=y, cmap=plt.cm.Spectral)\n",
    "plt.xlabel(\"Sepal length\")\n",
    "plt.ylabel(\"Sepal width\")\n",
    "plt.show()\n"
   ]
  }
 ],
 "metadata": {
  "kernelspec": {
   "display_name": "DeltaZero",
   "language": "python",
   "name": "python3"
  },
  "language_info": {
   "codemirror_mode": {
    "name": "ipython",
    "version": 3
   },
   "file_extension": ".py",
   "mimetype": "text/x-python",
   "name": "python",
   "nbconvert_exporter": "python",
   "pygments_lexer": "ipython3",
   "version": "3.10.12"
  }
 },
 "nbformat": 4,
 "nbformat_minor": 2
}
