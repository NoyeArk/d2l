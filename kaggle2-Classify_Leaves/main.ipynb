{
 "cells": [
  {
   "cell_type": "code",
   "id": "initial_id",
   "metadata": {
    "collapsed": true,
    "ExecuteTime": {
     "end_time": "2024-09-03T13:03:04.711042Z",
     "start_time": "2024-09-03T13:03:02.230718Z"
    }
   },
   "source": [
    "import torch\n",
    "import pandas as pd\n",
    "from PIL import Image\n",
    "from torch.utils.data import Dataset\n",
    "from torchvision.transforms import v2"
   ],
   "outputs": [],
   "execution_count": 1
  },
  {
   "metadata": {
    "ExecuteTime": {
     "end_time": "2024-09-03T13:05:00.052057Z",
     "start_time": "2024-09-03T13:05:00.024996Z"
    }
   },
   "cell_type": "code",
   "source": [
    "train_data = pd.read_csv(\"data/train.csv\")\n",
    "train_data"
   ],
   "id": "150f528ef9e67f65",
   "outputs": [
    {
     "data": {
      "text/plain": [
       "                  image                    label\n",
       "0          images/0.jpg         maclura_pomifera\n",
       "1          images/1.jpg         maclura_pomifera\n",
       "2          images/2.jpg         maclura_pomifera\n",
       "3          images/3.jpg         maclura_pomifera\n",
       "4          images/4.jpg         maclura_pomifera\n",
       "...                 ...                      ...\n",
       "18348  images/18348.jpg          aesculus_glabra\n",
       "18349  images/18349.jpg  liquidambar_styraciflua\n",
       "18350  images/18350.jpg            cedrus_libani\n",
       "18351  images/18351.jpg      prunus_pensylvanica\n",
       "18352  images/18352.jpg          quercus_montana\n",
       "\n",
       "[18353 rows x 2 columns]"
      ],
      "text/html": [
       "<div>\n",
       "<style scoped>\n",
       "    .dataframe tbody tr th:only-of-type {\n",
       "        vertical-align: middle;\n",
       "    }\n",
       "\n",
       "    .dataframe tbody tr th {\n",
       "        vertical-align: top;\n",
       "    }\n",
       "\n",
       "    .dataframe thead th {\n",
       "        text-align: right;\n",
       "    }\n",
       "</style>\n",
       "<table border=\"1\" class=\"dataframe\">\n",
       "  <thead>\n",
       "    <tr style=\"text-align: right;\">\n",
       "      <th></th>\n",
       "      <th>image</th>\n",
       "      <th>label</th>\n",
       "    </tr>\n",
       "  </thead>\n",
       "  <tbody>\n",
       "    <tr>\n",
       "      <th>0</th>\n",
       "      <td>images/0.jpg</td>\n",
       "      <td>maclura_pomifera</td>\n",
       "    </tr>\n",
       "    <tr>\n",
       "      <th>1</th>\n",
       "      <td>images/1.jpg</td>\n",
       "      <td>maclura_pomifera</td>\n",
       "    </tr>\n",
       "    <tr>\n",
       "      <th>2</th>\n",
       "      <td>images/2.jpg</td>\n",
       "      <td>maclura_pomifera</td>\n",
       "    </tr>\n",
       "    <tr>\n",
       "      <th>3</th>\n",
       "      <td>images/3.jpg</td>\n",
       "      <td>maclura_pomifera</td>\n",
       "    </tr>\n",
       "    <tr>\n",
       "      <th>4</th>\n",
       "      <td>images/4.jpg</td>\n",
       "      <td>maclura_pomifera</td>\n",
       "    </tr>\n",
       "    <tr>\n",
       "      <th>...</th>\n",
       "      <td>...</td>\n",
       "      <td>...</td>\n",
       "    </tr>\n",
       "    <tr>\n",
       "      <th>18348</th>\n",
       "      <td>images/18348.jpg</td>\n",
       "      <td>aesculus_glabra</td>\n",
       "    </tr>\n",
       "    <tr>\n",
       "      <th>18349</th>\n",
       "      <td>images/18349.jpg</td>\n",
       "      <td>liquidambar_styraciflua</td>\n",
       "    </tr>\n",
       "    <tr>\n",
       "      <th>18350</th>\n",
       "      <td>images/18350.jpg</td>\n",
       "      <td>cedrus_libani</td>\n",
       "    </tr>\n",
       "    <tr>\n",
       "      <th>18351</th>\n",
       "      <td>images/18351.jpg</td>\n",
       "      <td>prunus_pensylvanica</td>\n",
       "    </tr>\n",
       "    <tr>\n",
       "      <th>18352</th>\n",
       "      <td>images/18352.jpg</td>\n",
       "      <td>quercus_montana</td>\n",
       "    </tr>\n",
       "  </tbody>\n",
       "</table>\n",
       "<p>18353 rows × 2 columns</p>\n",
       "</div>"
      ]
     },
     "execution_count": 4,
     "metadata": {},
     "output_type": "execute_result"
    }
   ],
   "execution_count": 4
  },
  {
   "metadata": {},
   "cell_type": "code",
   "outputs": [],
   "execution_count": null,
   "source": [
    "class LeaveDataset(Dataset):\n",
    "    def __init__(self, x, y, train=True):\n",
    "        self.x = x\n",
    "        self.y = y\n",
    "        self.train = train\n",
    "        self.train_transpose = v2.Compose([\n",
    "            v2.RandomHorizontalFlip(),\n",
    "            v2.RandomVerticalFlip(),\n",
    "            v2.RandomRotation(180, fill=(255, 255, 255)),\n",
    "            v2.ColorJitter(0.5),\n",
    "            v2.Resize((224, 224)),\n",
    "            v2.PILToTensor(),\n",
    "            v2.ToDtype(torch.float32, True),\n",
    "            v2.Normalize([0.485, 0.456, 0.406], [0.229, 0.224, 0.225])\n",
    "        ])\n",
    "        self.test_transpose = v2.Compose([\n",
    "            v2.Resize((224, 224)),\n",
    "            v2.PILToTensor(),\n",
    "            v2.ToDtype(torch.float32, True),\n",
    "            v2.Normalize([0.485, 0.456, 0.406], [0.229, 0.224, 0.225])\n",
    "        ])\n",
    "        self.data_path = \"data/images/\"\n",
    "        \n",
    "    def __getitem__(self, idx):\n",
    "        x = self.x[idx]\n",
    "        y = self.y[idx]\n",
    "        x = Image.open(self.data_path + x)\n",
    "        x = self.train_transpose(x) if self.train else self.test_transpose(x)\n",
    "        return x, y\n",
    "    \n",
    "    def __len__(self):\n",
    "        return len(self.x)"
   ],
   "id": "bd4ad3a4e4ec0623"
  }
 ],
 "metadata": {
  "kernelspec": {
   "display_name": "Python 3",
   "language": "python",
   "name": "python3"
  },
  "language_info": {
   "codemirror_mode": {
    "name": "ipython",
    "version": 2
   },
   "file_extension": ".py",
   "mimetype": "text/x-python",
   "name": "python",
   "nbconvert_exporter": "python",
   "pygments_lexer": "ipython2",
   "version": "2.7.6"
  }
 },
 "nbformat": 4,
 "nbformat_minor": 5
}
