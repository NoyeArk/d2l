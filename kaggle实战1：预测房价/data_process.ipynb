{
 "cells": [
  {
   "cell_type": "code",
   "execution_count": 1,
   "metadata": {},
   "outputs": [],
   "source": [
    "import torch\n",
    "import numpy as np\n",
    "import pandas as pd"
   ]
  },
  {
   "cell_type": "markdown",
   "metadata": {},
   "source": [
    "### 查看数据集"
   ]
  },
  {
   "cell_type": "code",
   "execution_count": 4,
   "metadata": {},
   "outputs": [
    {
     "name": "stdout",
     "output_type": "stream",
     "text": [
      "训练集的形状：(47439, 41)\n",
      "测试集的形状：(31626, 40)\n",
      "查看前4个和后4个特征:    Id            Address  Sold Price  \\\n",
      "0   0        540 Pine Ln   3825000.0   \n",
      "1   1     1727 W 67th St    505000.0   \n",
      "2   2     28093 Pine Ave    140000.0   \n",
      "3   3  10750 Braddock Dr   1775000.0   \n",
      "\n",
      "                                             Summary         City    Zip State  \n",
      "0  540 Pine Ln, Los Altos, CA 94022 is a single f...    Los Altos  94022    CA  \n",
      "1  HURRY, HURRY.......Great house 3 bed and 2 bat...  Los Angeles  90047    CA  \n",
      "2  'THE PERFECT CABIN TO FLIP!  Strawberry deligh...   Strawberry  95375    CA  \n",
      "3  Rare 2-story Gated 5 bedroom Modern Mediterran...  Culver City  90230    CA  \n"
     ]
    }
   ],
   "source": [
    "train_data = pd.read_csv(\"data/train.csv\")\n",
    "test_data = pd.read_csv(\"data/test.csv\")\n",
    "\n",
    "print(f'训练集的形状：{train_data.shape}')\n",
    "print(f'测试集的形状：{test_data.shape}')\n",
    "print(\"查看前4个和后4个特征:\", train_data.iloc[0:4, [0, 1, 2, 3, -3, -2, -1]])"
   ]
  },
  {
   "cell_type": "code",
   "execution_count": 7,
   "metadata": {},
   "outputs": [
    {
     "data": {
      "text/html": [
       "<div>\n",
       "<style scoped>\n",
       "    .dataframe tbody tr th:only-of-type {\n",
       "        vertical-align: middle;\n",
       "    }\n",
       "\n",
       "    .dataframe tbody tr th {\n",
       "        vertical-align: top;\n",
       "    }\n",
       "\n",
       "    .dataframe thead th {\n",
       "        text-align: right;\n",
       "    }\n",
       "</style>\n",
       "<table border=\"1\" class=\"dataframe\">\n",
       "  <thead>\n",
       "    <tr style=\"text-align: right;\">\n",
       "      <th></th>\n",
       "      <th>Id</th>\n",
       "      <th>Sold Price</th>\n",
       "      <th>Year built</th>\n",
       "      <th>Lot</th>\n",
       "      <th>Bathrooms</th>\n",
       "      <th>Full bathrooms</th>\n",
       "      <th>Total interior livable area</th>\n",
       "      <th>Total spaces</th>\n",
       "      <th>Garage spaces</th>\n",
       "      <th>Elementary School Score</th>\n",
       "      <th>Elementary School Distance</th>\n",
       "      <th>Middle School Score</th>\n",
       "      <th>Middle School Distance</th>\n",
       "      <th>High School Score</th>\n",
       "      <th>High School Distance</th>\n",
       "      <th>Tax assessed value</th>\n",
       "      <th>Annual tax amount</th>\n",
       "      <th>Listed Price</th>\n",
       "      <th>Last Sold Price</th>\n",
       "      <th>Zip</th>\n",
       "    </tr>\n",
       "  </thead>\n",
       "  <tbody>\n",
       "    <tr>\n",
       "      <th>count</th>\n",
       "      <td>47439.000000</td>\n",
       "      <td>4.743900e+04</td>\n",
       "      <td>46394.000000</td>\n",
       "      <td>3.325800e+04</td>\n",
       "      <td>43974.000000</td>\n",
       "      <td>39574.000000</td>\n",
       "      <td>4.491300e+04</td>\n",
       "      <td>46523.000000</td>\n",
       "      <td>46522.000000</td>\n",
       "      <td>42543.000000</td>\n",
       "      <td>42697.000000</td>\n",
       "      <td>30734.000000</td>\n",
       "      <td>30735.000000</td>\n",
       "      <td>42220.000000</td>\n",
       "      <td>42438.000000</td>\n",
       "      <td>4.378700e+04</td>\n",
       "      <td>43129.000000</td>\n",
       "      <td>4.743900e+04</td>\n",
       "      <td>2.967300e+04</td>\n",
       "      <td>47439.000000</td>\n",
       "    </tr>\n",
       "    <tr>\n",
       "      <th>mean</th>\n",
       "      <td>23719.000000</td>\n",
       "      <td>1.296050e+06</td>\n",
       "      <td>1956.634888</td>\n",
       "      <td>2.353383e+05</td>\n",
       "      <td>2.355642</td>\n",
       "      <td>2.094961</td>\n",
       "      <td>5.774587e+03</td>\n",
       "      <td>1.567117</td>\n",
       "      <td>1.491746</td>\n",
       "      <td>5.720824</td>\n",
       "      <td>1.152411</td>\n",
       "      <td>5.317206</td>\n",
       "      <td>1.691593</td>\n",
       "      <td>6.134344</td>\n",
       "      <td>2.410366</td>\n",
       "      <td>7.863118e+05</td>\n",
       "      <td>9956.843817</td>\n",
       "      <td>1.315890e+06</td>\n",
       "      <td>8.078537e+05</td>\n",
       "      <td>93279.178587</td>\n",
       "    </tr>\n",
       "    <tr>\n",
       "      <th>std</th>\n",
       "      <td>13694.604047</td>\n",
       "      <td>1.694452e+06</td>\n",
       "      <td>145.802456</td>\n",
       "      <td>1.192507e+07</td>\n",
       "      <td>1.188805</td>\n",
       "      <td>0.963320</td>\n",
       "      <td>8.324363e+05</td>\n",
       "      <td>9.011608</td>\n",
       "      <td>8.964319</td>\n",
       "      <td>2.103350</td>\n",
       "      <td>2.332367</td>\n",
       "      <td>2.002768</td>\n",
       "      <td>2.462879</td>\n",
       "      <td>1.984711</td>\n",
       "      <td>3.596120</td>\n",
       "      <td>1.157796e+06</td>\n",
       "      <td>13884.254976</td>\n",
       "      <td>2.628695e+06</td>\n",
       "      <td>1.177903e+06</td>\n",
       "      <td>2263.459104</td>\n",
       "    </tr>\n",
       "    <tr>\n",
       "      <th>min</th>\n",
       "      <td>0.000000</td>\n",
       "      <td>1.005000e+05</td>\n",
       "      <td>0.000000</td>\n",
       "      <td>0.000000e+00</td>\n",
       "      <td>0.000000</td>\n",
       "      <td>1.000000</td>\n",
       "      <td>1.000000e+00</td>\n",
       "      <td>-15.000000</td>\n",
       "      <td>-15.000000</td>\n",
       "      <td>1.000000</td>\n",
       "      <td>0.000000</td>\n",
       "      <td>1.000000</td>\n",
       "      <td>0.000000</td>\n",
       "      <td>1.000000</td>\n",
       "      <td>0.000000</td>\n",
       "      <td>0.000000e+00</td>\n",
       "      <td>0.000000</td>\n",
       "      <td>0.000000e+00</td>\n",
       "      <td>0.000000e+00</td>\n",
       "      <td>85611.000000</td>\n",
       "    </tr>\n",
       "    <tr>\n",
       "      <th>25%</th>\n",
       "      <td>11859.500000</td>\n",
       "      <td>5.650000e+05</td>\n",
       "      <td>1946.000000</td>\n",
       "      <td>4.991000e+03</td>\n",
       "      <td>2.000000</td>\n",
       "      <td>2.000000</td>\n",
       "      <td>1.187000e+03</td>\n",
       "      <td>0.000000</td>\n",
       "      <td>0.000000</td>\n",
       "      <td>4.000000</td>\n",
       "      <td>0.300000</td>\n",
       "      <td>4.000000</td>\n",
       "      <td>0.600000</td>\n",
       "      <td>5.000000</td>\n",
       "      <td>0.800000</td>\n",
       "      <td>2.549615e+05</td>\n",
       "      <td>3467.000000</td>\n",
       "      <td>5.745000e+05</td>\n",
       "      <td>3.350000e+05</td>\n",
       "      <td>90220.000000</td>\n",
       "    </tr>\n",
       "    <tr>\n",
       "      <th>50%</th>\n",
       "      <td>23719.000000</td>\n",
       "      <td>9.600000e+05</td>\n",
       "      <td>1967.000000</td>\n",
       "      <td>6.502000e+03</td>\n",
       "      <td>2.000000</td>\n",
       "      <td>2.000000</td>\n",
       "      <td>1.566000e+03</td>\n",
       "      <td>1.000000</td>\n",
       "      <td>1.000000</td>\n",
       "      <td>6.000000</td>\n",
       "      <td>0.500000</td>\n",
       "      <td>5.000000</td>\n",
       "      <td>1.000000</td>\n",
       "      <td>6.000000</td>\n",
       "      <td>1.300000</td>\n",
       "      <td>5.475240e+05</td>\n",
       "      <td>7129.000000</td>\n",
       "      <td>9.490000e+05</td>\n",
       "      <td>5.980000e+05</td>\n",
       "      <td>94114.000000</td>\n",
       "    </tr>\n",
       "    <tr>\n",
       "      <th>75%</th>\n",
       "      <td>35578.500000</td>\n",
       "      <td>1.525000e+06</td>\n",
       "      <td>1989.000000</td>\n",
       "      <td>1.045400e+04</td>\n",
       "      <td>3.000000</td>\n",
       "      <td>2.000000</td>\n",
       "      <td>2.142000e+03</td>\n",
       "      <td>2.000000</td>\n",
       "      <td>2.000000</td>\n",
       "      <td>7.000000</td>\n",
       "      <td>1.000000</td>\n",
       "      <td>7.000000</td>\n",
       "      <td>1.800000</td>\n",
       "      <td>8.000000</td>\n",
       "      <td>2.400000</td>\n",
       "      <td>9.371625e+05</td>\n",
       "      <td>12010.000000</td>\n",
       "      <td>1.498844e+06</td>\n",
       "      <td>9.500000e+05</td>\n",
       "      <td>95073.000000</td>\n",
       "    </tr>\n",
       "    <tr>\n",
       "      <th>max</th>\n",
       "      <td>47438.000000</td>\n",
       "      <td>9.000000e+07</td>\n",
       "      <td>9999.000000</td>\n",
       "      <td>1.897474e+09</td>\n",
       "      <td>24.000000</td>\n",
       "      <td>17.000000</td>\n",
       "      <td>1.764164e+08</td>\n",
       "      <td>1000.000000</td>\n",
       "      <td>1000.000000</td>\n",
       "      <td>10.000000</td>\n",
       "      <td>57.200000</td>\n",
       "      <td>9.000000</td>\n",
       "      <td>57.200000</td>\n",
       "      <td>10.000000</td>\n",
       "      <td>73.900000</td>\n",
       "      <td>4.590000e+07</td>\n",
       "      <td>552485.000000</td>\n",
       "      <td>4.025320e+08</td>\n",
       "      <td>9.000000e+07</td>\n",
       "      <td>96155.000000</td>\n",
       "    </tr>\n",
       "  </tbody>\n",
       "</table>\n",
       "</div>"
      ],
      "text/plain": [
       "                 Id    Sold Price    Year built           Lot     Bathrooms  \\\n",
       "count  47439.000000  4.743900e+04  46394.000000  3.325800e+04  43974.000000   \n",
       "mean   23719.000000  1.296050e+06   1956.634888  2.353383e+05      2.355642   \n",
       "std    13694.604047  1.694452e+06    145.802456  1.192507e+07      1.188805   \n",
       "min        0.000000  1.005000e+05      0.000000  0.000000e+00      0.000000   \n",
       "25%    11859.500000  5.650000e+05   1946.000000  4.991000e+03      2.000000   \n",
       "50%    23719.000000  9.600000e+05   1967.000000  6.502000e+03      2.000000   \n",
       "75%    35578.500000  1.525000e+06   1989.000000  1.045400e+04      3.000000   \n",
       "max    47438.000000  9.000000e+07   9999.000000  1.897474e+09     24.000000   \n",
       "\n",
       "       Full bathrooms  Total interior livable area  Total spaces  \\\n",
       "count    39574.000000                 4.491300e+04  46523.000000   \n",
       "mean         2.094961                 5.774587e+03      1.567117   \n",
       "std          0.963320                 8.324363e+05      9.011608   \n",
       "min          1.000000                 1.000000e+00    -15.000000   \n",
       "25%          2.000000                 1.187000e+03      0.000000   \n",
       "50%          2.000000                 1.566000e+03      1.000000   \n",
       "75%          2.000000                 2.142000e+03      2.000000   \n",
       "max         17.000000                 1.764164e+08   1000.000000   \n",
       "\n",
       "       Garage spaces  Elementary School Score  Elementary School Distance  \\\n",
       "count   46522.000000             42543.000000                42697.000000   \n",
       "mean        1.491746                 5.720824                    1.152411   \n",
       "std         8.964319                 2.103350                    2.332367   \n",
       "min       -15.000000                 1.000000                    0.000000   \n",
       "25%         0.000000                 4.000000                    0.300000   \n",
       "50%         1.000000                 6.000000                    0.500000   \n",
       "75%         2.000000                 7.000000                    1.000000   \n",
       "max      1000.000000                10.000000                   57.200000   \n",
       "\n",
       "       Middle School Score  Middle School Distance  High School Score  \\\n",
       "count         30734.000000            30735.000000       42220.000000   \n",
       "mean              5.317206                1.691593           6.134344   \n",
       "std               2.002768                2.462879           1.984711   \n",
       "min               1.000000                0.000000           1.000000   \n",
       "25%               4.000000                0.600000           5.000000   \n",
       "50%               5.000000                1.000000           6.000000   \n",
       "75%               7.000000                1.800000           8.000000   \n",
       "max               9.000000               57.200000          10.000000   \n",
       "\n",
       "       High School Distance  Tax assessed value  Annual tax amount  \\\n",
       "count          42438.000000        4.378700e+04       43129.000000   \n",
       "mean               2.410366        7.863118e+05        9956.843817   \n",
       "std                3.596120        1.157796e+06       13884.254976   \n",
       "min                0.000000        0.000000e+00           0.000000   \n",
       "25%                0.800000        2.549615e+05        3467.000000   \n",
       "50%                1.300000        5.475240e+05        7129.000000   \n",
       "75%                2.400000        9.371625e+05       12010.000000   \n",
       "max               73.900000        4.590000e+07      552485.000000   \n",
       "\n",
       "       Listed Price  Last Sold Price           Zip  \n",
       "count  4.743900e+04     2.967300e+04  47439.000000  \n",
       "mean   1.315890e+06     8.078537e+05  93279.178587  \n",
       "std    2.628695e+06     1.177903e+06   2263.459104  \n",
       "min    0.000000e+00     0.000000e+00  85611.000000  \n",
       "25%    5.745000e+05     3.350000e+05  90220.000000  \n",
       "50%    9.490000e+05     5.980000e+05  94114.000000  \n",
       "75%    1.498844e+06     9.500000e+05  95073.000000  \n",
       "max    4.025320e+08     9.000000e+07  96155.000000  "
      ]
     },
     "execution_count": 7,
     "metadata": {},
     "output_type": "execute_result"
    }
   ],
   "source": [
    "train_data.describe()"
   ]
  },
  {
   "cell_type": "code",
   "execution_count": 9,
   "metadata": {},
   "outputs": [
    {
     "data": {
      "text/plain": [
       "Index(['Id', 'Address', 'Sold Price', 'Summary', 'Type', 'Year built',\n",
       "       'Heating', 'Cooling', 'Parking', 'Lot', 'Bedrooms', 'Bathrooms',\n",
       "       'Full bathrooms', 'Total interior livable area', 'Total spaces',\n",
       "       'Garage spaces', 'Region', 'Elementary School',\n",
       "       'Elementary School Score', 'Elementary School Distance',\n",
       "       'Middle School', 'Middle School Score', 'Middle School Distance',\n",
       "       'High School', 'High School Score', 'High School Distance', 'Flooring',\n",
       "       'Heating features', 'Cooling features', 'Appliances included',\n",
       "       'Laundry features', 'Parking features', 'Tax assessed value',\n",
       "       'Annual tax amount', 'Listed On', 'Listed Price', 'Last Sold On',\n",
       "       'Last Sold Price', 'City', 'Zip', 'State'],\n",
       "      dtype='object')"
      ]
     },
     "execution_count": 9,
     "metadata": {},
     "output_type": "execute_result"
    }
   ],
   "source": [
    "train_data.columns"
   ]
  },
  {
   "cell_type": "markdown",
   "metadata": {},
   "source": [
    "## 数据预处理"
   ]
  },
  {
   "cell_type": "markdown",
   "metadata": {},
   "source": [
    "### 数值类型特征处理"
   ]
  },
  {
   "cell_type": "code",
   "execution_count": 24,
   "metadata": {},
   "outputs": [],
   "source": [
    "\"\"\"将训练集和测试集组合在一起\"\"\"\n",
    "all_features = pd.concat((train_data.iloc[:, 3:-1], test_data.iloc[:, 1:-1]))\n",
    "\n",
    "numeric_features = all_features.dtypes[all_features.dtypes != 'object'].index\n",
    "all_features[numeric_features] = all_features[numeric_features].apply(\n",
    "\tlambda x : (x - x.mean()) / (x.std())\n",
    ")"
   ]
  },
  {
   "cell_type": "code",
   "execution_count": 25,
   "metadata": {},
   "outputs": [],
   "source": [
    "# 在标准化数据之后 所有均值消失 可以将缺失值设置为0\n",
    "all_features[numeric_features] = all_features[numeric_features].fillna(0)"
   ]
  },
  {
   "cell_type": "code",
   "execution_count": 26,
   "metadata": {},
   "outputs": [
    {
     "name": "stdout",
     "output_type": "stream",
     "text": [
      "处理之后数据集的形状：(79065, 38)\n"
     ]
    }
   ],
   "source": [
    "print(f'处理之后数据集的形状：{all_features.shape}')"
   ]
  },
  {
   "cell_type": "markdown",
   "metadata": {},
   "source": [
    "### 保存数据"
   ]
  },
  {
   "cell_type": "code",
   "execution_count": 30,
   "metadata": {},
   "outputs": [
    {
     "name": "stdout",
     "output_type": "stream",
     "text": [
      "(47439, 19)\n",
      "(31626, 18)\n"
     ]
    }
   ],
   "source": [
    "len_train = train_data.shape[0]\n",
    "train_features = all_features[numeric_features][:len_train]\n",
    "train_features['label'] = train_data.iloc[:, 2]\n",
    "test_features = all_features[numeric_features][len_train:]\n",
    "\n",
    "train_features.to_csv('data/processed_train.csv', index=False)\n",
    "test_features.to_csv('data/processed_test.csv', index=False)\n",
    "\n",
    "print(train_features.shape)\n",
    "print(test_features.shape)"
   ]
  },
  {
   "cell_type": "code",
   "execution_count": 31,
   "metadata": {},
   "outputs": [
    {
     "data": {
      "text/plain": [
       "0        3825000.0\n",
       "1         505000.0\n",
       "2         140000.0\n",
       "3        1775000.0\n",
       "4        1175000.0\n",
       "           ...    \n",
       "47434     159000.0\n",
       "47435     255000.0\n",
       "47436    2300000.0\n",
       "47437     500000.0\n",
       "47438     760000.0\n",
       "Name: label, Length: 47439, dtype: float64"
      ]
     },
     "execution_count": 31,
     "metadata": {},
     "output_type": "execute_result"
    }
   ],
   "source": [
    "train_features['label']"
   ]
  }
 ],
 "metadata": {
  "kernelspec": {
   "display_name": "DeltaZero",
   "language": "python",
   "name": "python3"
  },
  "language_info": {
   "codemirror_mode": {
    "name": "ipython",
    "version": 3
   },
   "file_extension": ".py",
   "mimetype": "text/x-python",
   "name": "python",
   "nbconvert_exporter": "python",
   "pygments_lexer": "ipython3",
   "version": "3.10.12"
  }
 },
 "nbformat": 4,
 "nbformat_minor": 2
}
